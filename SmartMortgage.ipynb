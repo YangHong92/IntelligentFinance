{
 "cells": [
  {
   "cell_type": "markdown",
   "id": "1de969b2",
   "metadata": {},
   "source": [
    "## Scenario\n",
    "\n",
    "You want to buy an apartment of price: 350k\n",
    "\n",
    "You have deposite for down payment: 200k\n"
   ]
  },
  {
   "cell_type": "code",
   "execution_count": 31,
   "id": "67c3b93e",
   "metadata": {
    "ExecuteTime": {
     "end_time": "2021-11-07T22:51:44.759188Z",
     "start_time": "2021-11-07T22:51:44.753854Z"
    }
   },
   "outputs": [],
   "source": [
    "# unit: 10000\n",
    "down_payment = 200\n",
    "mortgage_years = 15\n",
    "\n",
    "def calculate_wealth(down_payment, mortgage_years, property_price = 350, \\\n",
    "                     property_yearly_return_rate = 0.03, mortgage_yearly_rate = 0.0465, \\\n",
    "                     wealth_years = 30, current_wealth = 200, monthly_income = 3, \\\n",
    "                     family_expense = 0.5, financial_yearly_return_rate = 0.068):\n",
    "    '''\n",
    "    property_price = 350\n",
    "    property_yearly_return_rate = 0.03\n",
    "\n",
    "    mortgage_yearly_rate = 0.0465\n",
    "    mortgage_monthly_rate = mortgage_yearly_rate / 12\n",
    "    mortgage = property_price - down_payment\n",
    "\n",
    "    wealth_years = 30\n",
    "    current_wealth = 200\n",
    "    monthly_income = 3\n",
    "    family_expense = 0.5\n",
    "\n",
    "    financial_yearly_return_rate = 0.068 <portfolio>\n",
    "    financial_monthly_return_rate = financial_yearly_return_rate / 12\n",
    "    '''\n",
    "    mortgage_monthly_rate = mortgage_yearly_rate / 12\n",
    "    mortgage = property_price - down_payment\n",
    "    financial_monthly_return_rate = financial_yearly_return_rate / 12\n",
    "    \n",
    "    monthly_repayment = float(mortgage) * mortgage_monthly_rate * ((1 + mortgage_monthly_rate) ** (12 * mortgage_years)) / \\\n",
    "        ((1 + mortgage_monthly_rate) ** (12 * mortgage_years) - 1)\n",
    "\n",
    "    cash_wealth = current_wealth - down_payment\n",
    "    for this_month in range(0, 12 * wealth_years):\n",
    "        cash_wealth = cash_wealth * (1 + financial_monthly_return_rate) + monthly_income - family_expense\n",
    "        if this_month <= mortgage_years * 12:\n",
    "            cash_wealth = cash_wealth - monthly_repayment\n",
    "\n",
    "    property_wealth = property_price\n",
    "    for this_year in range(0, wealth_years):\n",
    "        property_wealth = property_wealth * (1 + property_yearly_return_rate)\n",
    "\n",
    "    return round(monthly_repayment, 4), round(cash_wealth, 2), round(property_wealth, 2)\n"
   ]
  },
  {
   "cell_type": "code",
   "execution_count": 37,
   "id": "1d452678",
   "metadata": {
    "ExecuteTime": {
     "end_time": "2021-11-07T22:55:44.020662Z",
     "start_time": "2021-11-07T22:55:44.012337Z"
    }
   },
   "outputs": [],
   "source": [
    "import pandas as pd\n",
    "import matplotlib.pyplot as plt\n",
    "\n",
    "df = pd.DataFrame(columns=['downpay200w_morgage30', 'downpay122.5w_morgage30', 'downpay122.5w_morgage15'],\\\n",
    "                 index=['monthly_repayment(w)', 'cash_after30years', 'property_after30years', 'total_wealth_after30years'])\n",
    "\n",
    "for (plan, col) in zip([(200,30), (122.5,30), (122.5,15)], df.columns):\n",
    "    down_payment, mortgage_years = plan\n",
    "    monthly_repayment, cash_wealth, property_wealth = calculate_wealth(down_payment, \\\n",
    "                                                                       mortgage_years)\n",
    "    total_wealth = round(cash_wealth+property_wealth, 2)\n",
    "    df[col] = monthly_repayment, cash_wealth, property_wealth, total_wealth"
   ]
  },
  {
   "cell_type": "code",
   "execution_count": 38,
   "id": "d91843ff",
   "metadata": {
    "ExecuteTime": {
     "end_time": "2021-11-07T22:55:45.004358Z",
     "start_time": "2021-11-07T22:55:44.996990Z"
    }
   },
   "outputs": [
    {
     "data": {
      "text/html": [
       "<div>\n",
       "<style scoped>\n",
       "    .dataframe tbody tr th:only-of-type {\n",
       "        vertical-align: middle;\n",
       "    }\n",
       "\n",
       "    .dataframe tbody tr th {\n",
       "        vertical-align: top;\n",
       "    }\n",
       "\n",
       "    .dataframe thead th {\n",
       "        text-align: right;\n",
       "    }\n",
       "</style>\n",
       "<table border=\"1\" class=\"dataframe\">\n",
       "  <thead>\n",
       "    <tr style=\"text-align: right;\">\n",
       "      <th></th>\n",
       "      <th>downpay200w_morgage30</th>\n",
       "      <th>downpay122.5w_morgage30</th>\n",
       "      <th>downpay122.5w_morgage15</th>\n",
       "    </tr>\n",
       "  </thead>\n",
       "  <tbody>\n",
       "    <tr>\n",
       "      <th>monthly_repayment(w)</th>\n",
       "      <td>0.7735</td>\n",
       "      <td>1.1731</td>\n",
       "      <td>1.7579</td>\n",
       "    </tr>\n",
       "    <tr>\n",
       "      <th>cash_after30years</th>\n",
       "      <td>2025.0700</td>\n",
       "      <td>2148.9600</td>\n",
       "      <td>2005.8200</td>\n",
       "    </tr>\n",
       "    <tr>\n",
       "      <th>property_after30years</th>\n",
       "      <td>849.5400</td>\n",
       "      <td>849.5400</td>\n",
       "      <td>849.5400</td>\n",
       "    </tr>\n",
       "    <tr>\n",
       "      <th>total_wealth_after30years</th>\n",
       "      <td>2874.6100</td>\n",
       "      <td>2998.5000</td>\n",
       "      <td>2855.3600</td>\n",
       "    </tr>\n",
       "  </tbody>\n",
       "</table>\n",
       "</div>"
      ],
      "text/plain": [
       "                           downpay200w_morgage30  downpay122.5w_morgage30  \\\n",
       "monthly_repayment(w)                      0.7735                   1.1731   \n",
       "cash_after30years                      2025.0700                2148.9600   \n",
       "property_after30years                   849.5400                 849.5400   \n",
       "total_wealth_after30years              2874.6100                2998.5000   \n",
       "\n",
       "                           downpay122.5w_morgage15  \n",
       "monthly_repayment(w)                        1.7579  \n",
       "cash_after30years                        2005.8200  \n",
       "property_after30years                     849.5400  \n",
       "total_wealth_after30years                2855.3600  "
      ]
     },
     "execution_count": 38,
     "metadata": {},
     "output_type": "execute_result"
    }
   ],
   "source": [
    "df"
   ]
  },
  {
   "cell_type": "code",
   "execution_count": 51,
   "id": "f2a04a3d",
   "metadata": {
    "ExecuteTime": {
     "end_time": "2021-11-08T21:23:41.549927Z",
     "start_time": "2021-11-08T21:23:41.377455Z"
    }
   },
   "outputs": [
    {
     "data": {
      "image/png": "[encoded data removed]",
      "text/plain": [
       "<Figure size 432x288 with 1 Axes>"
      ]
     },
     "metadata": {
      "needs_background": "light"
     },
     "output_type": "display_data"
    }
   ],
   "source": [
    "df[1:].T.plot.bar()\n",
    "plt.show()"
   ]
  },
  {
   "cell_type": "code",
   "execution_count": null,
   "id": "19137de5",
   "metadata": {},
   "outputs": [],
   "source": []
  }
 ],
 "metadata": {
  "kernelspec": {
   "display_name": "Python 3",
   "language": "python",
   "name": "python3"
  },
  "language_info": {
   "codemirror_mode": {
    "name": "ipython",
    "version": 3
   },
   "file_extension": ".py",
   "mimetype": "text/x-python",
   "name": "python",
   "nbconvert_exporter": "python",
   "pygments_lexer": "ipython3",
   "version": "3.8.5"
  }
 },
 "nbformat": 4,
 "nbformat_minor": 5
}
